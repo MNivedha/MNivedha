{
  "nbformat": 4,
  "nbformat_minor": 0,
  "metadata": {
    "colab": {
      "name": "task.ipynb",
      "provenance": [],
      "collapsed_sections": [],
      "authorship_tag": "ABX9TyMnrj6qocOAg1MwElN7GEVa",
      "include_colab_link": true
    },
    "kernelspec": {
      "name": "python3",
      "display_name": "Python 3"
    },
    "language_info": {
      "name": "python"
    }
  },
  "cells": [
    {
      "cell_type": "markdown",
      "metadata": {
        "id": "view-in-github",
        "colab_type": "text"
      },
      "source": [
        "<a href=\"https://colab.research.google.com/github/MNivedha/MNivedha/blob/main/task.ipynb\" target=\"_parent\"><img src=\"https://colab.research.google.com/assets/colab-badge.svg\" alt=\"Open In Colab\"/></a>"
      ]
    },
    {
      "cell_type": "code",
      "execution_count": 6,
      "metadata": {
        "colab": {
          "base_uri": "https://localhost:8080/"
        },
        "id": "eJ2YLmOc9rZL",
        "outputId": "698cbaf5-d5a2-4d42-ab80-bb24cbbf0cfe"
      },
      "outputs": [
        {
          "output_type": "stream",
          "name": "stdout",
          "text": [
            "2022-06-03 15:30:23.002870+05:30\n"
          ]
        }
      ],
      "source": [
        "#1. Write a Python program to display the current date and time\n",
        "\n",
        "import datetime\n",
        "import pytz  \n",
        "current_time = datetime.datetime.now(pytz.timezone('Asia/Kolkata')) \n",
        "print (current_time)  "
      ]
    },
    {
      "cell_type": "code",
      "source": [
        "#2. Write a Python program which accepts a sequence of comma-separated numbers from user and generate a list and a tuple with those number\n",
        "\n",
        "values = input(\"Input some comma seprated numbers : \")\n",
        "list = values.split(\",\")\n",
        "tuple = tuple(list)\n",
        "print('List : ',list)\n",
        "print('Tuple : ',tuple)"
      ],
      "metadata": {
        "colab": {
          "base_uri": "https://localhost:8080/"
        },
        "id": "xAwnVgRLAlAU",
        "outputId": "fb87eee1-289b-458f-80b6-588d64d7bd4b"
      },
      "execution_count": 11,
      "outputs": [
        {
          "output_type": "stream",
          "name": "stdout",
          "text": [
            "Input some comma seprated numbers : 1 3 4\n",
            "List :  ['1 3 4']\n",
            "Tuple :  ('1 3 4',)\n"
          ]
        }
      ]
    },
    {
      "cell_type": "code",
      "source": [
        "#Write a Python program to display the first and last colors from the following list.\n",
        "\n",
        "color_list = [\"Red\",\"Green\",\"White\" ,\"Black\"]\n",
        "color_list = [\"Red\",\"Green\",\"White\" ,\"Black\"]\n",
        "print(color_list[0],color_list[-1])"
      ],
      "metadata": {
        "colab": {
          "base_uri": "https://localhost:8080/"
        },
        "id": "ydrmt8VVCso6",
        "outputId": "52e34a3a-4892-49e6-cf35-0d6a60a176e8"
      },
      "execution_count": 12,
      "outputs": [
        {
          "output_type": "stream",
          "name": "stdout",
          "text": [
            "Red Black\n"
          ]
        }
      ]
    },
    {
      "cell_type": "code",
      "source": [
        "#4. Write a Python program to test whether a number is within 100 of 1000 or 2000.\n",
        "\n",
        "def near_thousand(n):\n",
        "  return ((abs(1000 - n) <= 100) or (abs(2000 - n) <= 100))\n",
        "print(near_thousand(1000))\n",
        "print(near_thousand(900))\n",
        "print(near_thousand(800))   \n",
        "print(near_thousand(2200))"
      ],
      "metadata": {
        "colab": {
          "base_uri": "https://localhost:8080/"
        },
        "id": "z7F4f8hHC7m6",
        "outputId": "a37f2281-6637-407d-cef9-daecc36118b2"
      },
      "execution_count": 13,
      "outputs": [
        {
          "output_type": "stream",
          "name": "stdout",
          "text": [
            "True\n",
            "True\n",
            "False\n",
            "False\n"
          ]
        }
      ]
    },
    {
      "cell_type": "code",
      "source": [
        "# 5. Write a Python program to print all even numbers\n",
        "\n",
        "print([i for i in range(11) if i%2 == 0])"
      ],
      "metadata": {
        "colab": {
          "base_uri": "https://localhost:8080/"
        },
        "id": "v4UNaM-vDh-A",
        "outputId": "25068d99-e520-45df-b28d-23cfa4e22456"
      },
      "execution_count": 14,
      "outputs": [
        {
          "output_type": "stream",
          "name": "stdout",
          "text": [
            "[0, 2, 4, 6, 8, 10]\n"
          ]
        }
      ]
    },
    {
      "cell_type": "code",
      "source": [
        "#Write a Python program to find the list in a list of lists whose sum of elements is the highest.\n",
        "#Sample lists: [1,2,3], [4,5,6], [10,11,12], [7,8,9]\n",
        "#Expected Output: [10, 11, 12]\n",
        "\n",
        "num = [[1,2,3], [4,5,6], [10,11,12], [7,8,9]]\n",
        "print(max(num, key=sum))"
      ],
      "metadata": {
        "colab": {
          "base_uri": "https://localhost:8080/"
        },
        "id": "uFHlY4VeJin2",
        "outputId": "7ece73d1-90f7-436f-c8b4-98fd7ae29b48"
      },
      "execution_count": 30,
      "outputs": [
        {
          "output_type": "stream",
          "name": "stdout",
          "text": [
            "[10, 11, 12]\n"
          ]
        }
      ]
    },
    {
      "cell_type": "code",
      "source": [
        "#Write a Python script to concatenate following dictionaries to create a new one. \n",
        "\n",
        "#Sample Dictionary :\n",
        "#dic1={1:10, 2:20}\n",
        "#dic2={3:30, 4:40}\n",
        "#dic3={5:50,6:60}\n",
        "#Expected Result : {1: 10, 2: 20, 3: 30, 4: 40, 5: 50, 6: 60}\n",
        "\n",
        "dic1={1:10, 2:20}\n",
        "dic2={3:30, 4:40}\n",
        "dic3={5:50,6:60}\n",
        "dic4 = {}\n",
        "for d in (dic1, dic2, dic3): dic4.update(d)\n",
        "print(dic4)"
      ],
      "metadata": {
        "colab": {
          "base_uri": "https://localhost:8080/"
        },
        "id": "i_1fbOHgO1wJ",
        "outputId": "6c61e8f2-290c-47a9-fb0a-207d5c9f10a2"
      },
      "execution_count": 36,
      "outputs": [
        {
          "output_type": "stream",
          "name": "stdout",
          "text": [
            "{1: 10, 2: 20, 3: 30, 4: 40, 5: 50, 6: 60}\n"
          ]
        }
      ]
    },
    {
      "cell_type": "code",
      "source": [
        "#11. Write a Python program to multiply all the items in a dictionary\n",
        "\n",
        "\n",
        "my_dict = {'data1':100,'data2':-54,'data3':27}\n",
        "result=1\n",
        "for key in my_dict:    \n",
        "    result=result * my_dict[key]\n",
        "\n",
        "print(result)"
      ],
      "metadata": {
        "colab": {
          "base_uri": "https://localhost:8080/"
        },
        "id": "xrijHhmyPVpM",
        "outputId": "13c91631-aed6-4d10-af4d-548ce1329cdd"
      },
      "execution_count": 38,
      "outputs": [
        {
          "output_type": "stream",
          "name": "stdout",
          "text": [
            "-145800\n"
          ]
        }
      ]
    },
    {
      "cell_type": "code",
      "source": [
        "#12.  Write a Python program to get the 4th element and 4th element from last of a tuple.\n",
        "\n",
        "tuplex = (\"g\", \"u\", \"v\", \"i\", \"g\", \"e\", \"e\", \"k\")\n",
        "print(tuplex)\n",
        "item = tuplex[3]\n",
        "print(item)\n",
        "item1 = tuplex[-4]\n",
        "print(item1)"
      ],
      "metadata": {
        "colab": {
          "base_uri": "https://localhost:8080/"
        },
        "id": "p6vOWACEPwyT",
        "outputId": "cfb7e934-6f0f-460c-a6a8-e362e312e964"
      },
      "execution_count": 41,
      "outputs": [
        {
          "output_type": "stream",
          "name": "stdout",
          "text": [
            "('g', 'u', 'v', 'i', 'g', 'e', 'e', 'k')\n",
            "i\n",
            "g\n"
          ]
        }
      ]
    },
    {
      "cell_type": "code",
      "source": [
        "#13.  Write a Python program to convert a tuple to a dictionary. \n",
        "\n",
        "tuplex = ((2, \"g\"),(3, \"u\"))\n",
        "print(dict((y, x) for x, y in tuplex))"
      ],
      "metadata": {
        "colab": {
          "base_uri": "https://localhost:8080/"
        },
        "id": "EMw3G3unQgdy",
        "outputId": "f7fa69f0-f7c8-4eb0-dd03-7eaafc0906b9"
      },
      "execution_count": 43,
      "outputs": [
        {
          "output_type": "stream",
          "name": "stdout",
          "text": [
            "{'g': 2, 'u': 3}\n"
          ]
        }
      ]
    },
    {
      "cell_type": "code",
      "source": [
        "#15. Write a Python program to check if a given set is superset of itself and superset of another given set.\n",
        "\n",
        "nums = {10,20,30,40,50}\n",
        "print(\"Original set: \",nums)\n",
        "print(\"If nums is superset of itself?\")\n",
        "print(nums.issuperset(nums))\n",
        "num1 = {1, 2, 3, 4, 5, 7}\n",
        "num2 = {2, 4}\n",
        "num3 = {2, 4}\n",
        "print(\"\\nnum1 = \", num1)\n",
        "print(\"num2 = \", num2)\n",
        "print(\"num3 = \", num3)\n",
        "print(\"If mum1 is superset of num2:\")\n",
        "print(num1>num2)\n",
        "print(\"Compare mum2 and num3:\")\n",
        "print(\"If mum2 is superset of num3:\")\n",
        "print(num2>num3)\n",
        "print(\"If mum3 is superset of num2:\")\n",
        "print(num3>num2)"
      ],
      "metadata": {
        "colab": {
          "base_uri": "https://localhost:8080/"
        },
        "id": "jJLB1PRKQ2Id",
        "outputId": "ce8a46fb-467f-4ab6-e759-59ce0983fbcd"
      },
      "execution_count": 45,
      "outputs": [
        {
          "output_type": "stream",
          "name": "stdout",
          "text": [
            "Original set:  {40, 10, 50, 20, 30}\n",
            "If nums is superset of itself?\n",
            "True\n",
            "\n",
            "num1 =  {1, 2, 3, 4, 5, 7}\n",
            "num2 =  {2, 4}\n",
            "num3 =  {2, 4}\n",
            "If mum1 is superset of num2:\n",
            "True\n",
            "Compare mum2 and num3:\n",
            "If mum2 is superset of num3:\n",
            "False\n",
            "If mum3 is superset of num2:\n",
            "False\n"
          ]
        }
      ]
    },
    {
      "cell_type": "code",
      "source": [
        "#14. Write a Python program to remove all elements from a given set.\n",
        "\n",
        "\n",
        "setc = {\"Nive\", \"Likes\", \"Pink\", \"Colour\"}\n",
        "print(\"Original set elements:\")\n",
        "print(setc)        \n",
        "print(\"\\nAfter removing all elements of the said set.\")\n",
        "setc.clear()\n",
        "print(setc)"
      ],
      "metadata": {
        "colab": {
          "base_uri": "https://localhost:8080/"
        },
        "id": "L_BmuMGFQ5O4",
        "outputId": "c285e910-6e34-4eb2-d68c-1e5422f858bb"
      },
      "execution_count": 49,
      "outputs": [
        {
          "output_type": "stream",
          "name": "stdout",
          "text": [
            "Original set elements:\n",
            "{'Colour', 'Nive', 'Pink', 'Likes'}\n",
            "\n",
            "After removing all elements of the said set.\n",
            "set()\n"
          ]
        }
      ]
    }
  ]
}